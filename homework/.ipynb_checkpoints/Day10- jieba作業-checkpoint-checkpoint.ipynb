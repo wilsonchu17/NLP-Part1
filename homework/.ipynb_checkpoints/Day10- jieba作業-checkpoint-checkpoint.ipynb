{
 "cells": [
  {
   "cell_type": "markdown",
   "metadata": {},
   "source": [
    "## 作業目標：運用課程所學，操作字串達到預期輸出"
   ]
  },
  {
   "cell_type": "markdown",
   "metadata": {},
   "source": [
    "* 自行尋找一篇超過100字的文章\n",
    "    * 首先運用結巴斷詞，自行新增字典使得斷詞更為正確\n",
    "    * 使用jieba 完成 PoS Taggin\n",
    "    * 新增的詞也必須賦予詞性"
   ]
  },
  {
   "cell_type": "markdown",
   "metadata": {},
   "source": [
    "---"
   ]
  },
  {
   "cell_type": "code",
   "execution_count": 1,
   "metadata": {},
   "outputs": [],
   "source": [
    "import jieba\n",
    "import jieba.posseg as pseg\n",
    "jieba.set_dictionary('./dict.txt')"
   ]
  },
  {
   "cell_type": "markdown",
   "metadata": {},
   "source": [
    "---"
   ]
  },
  {
   "cell_type": "code",
   "execution_count": 2,
   "metadata": {},
   "outputs": [],
   "source": [
    "sentence = '''台灣東北角黃金十稜當中，最為精彩刺激的，莫過於劍龍稜了。因稜線地貌與劍龍背脊相似，而得劍龍稜之名沿途風景壯闊，可以展望茶壺山基隆山、水湳洞與太平洋。雖然登山口臨近市區，屬於一日之內可以往返的郊山，但其難度卻一點都不簡單，必須要在毫無遮蔽的情況下，行走於岩石絕壁之上。'''"
   ]
  },
  {
   "cell_type": "code",
   "execution_count": 3,
   "metadata": {},
   "outputs": [
    {
     "name": "stdout",
     "output_type": "stream",
     "text": [
      "台灣東北角黃金十稜當中，最為精彩刺激的，莫過於劍龍稜了。因稜線地貌與劍龍背脊相似，而得劍龍稜之名沿途風景壯闊，可以展望茶壺山基隆山、水湳洞與太平洋。雖然登山口臨近市區，屬於一日之內可以往返的郊山，但其難度卻一點都不簡單，必須要在毫無遮蔽的情況下，行走於岩石絕壁之上。\n"
     ]
    }
   ],
   "source": [
    "print(sentence)"
   ]
  },
  {
   "cell_type": "code",
   "execution_count": 4,
   "metadata": {},
   "outputs": [
    {
     "name": "stderr",
     "output_type": "stream",
     "text": [
      "Building prefix dict from C:\\Users\\wilson\\Documents\\GitHub\\NLP-Part1\\homework\\dict.txt ...\n",
      "Dumping model to file cache C:\\Users\\wilson\\AppData\\Local\\Temp\\jieba.u6f01ef5a5bd7f15fe159bd554be2658c.cache\n",
      "Loading model cost 0.550 seconds.\n",
      "Prefix dict has been built successfully.\n"
     ]
    },
    {
     "name": "stdout",
     "output_type": "stream",
     "text": [
      "output 精確模式: 台灣|東北角|黃金|十|稜|當中|，|最為|精彩|刺激|的|，|莫過於|劍龍|稜|了|。|因|稜線|地貌|與|劍龍|背脊|相似|，|而|得|劍龍|稜|之|名|沿途|風景|壯闊|，|可以|展望|茶壺山|基隆|山|、|水湳洞|與|太平洋|。|雖然|登山口|臨近|市區|，|屬於|一日|之內|可以|往返|的|郊山|，|但|其|難度|卻|一點|都|不|簡單|，|必須|要|在|毫無|遮蔽|的|情況|下|，|行走|於|岩石|絕壁|之上|。\n"
     ]
    }
   ],
   "source": [
    "print(\"output 精確模式: {}\".format('|'.join(jieba.cut(sentence, cut_all=False, HMM=False))))"
   ]
  },
  {
   "cell_type": "markdown",
   "metadata": {},
   "source": [
    "## 新增字典"
   ]
  },
  {
   "cell_type": "code",
   "execution_count": 15,
   "metadata": {},
   "outputs": [],
   "source": [
    "new_words = '黃金十稜 2 n\\n劍龍稜 2 n\\n基隆山 2 v'\n",
    "with open('adding.txt', 'w') as file:\n",
    "    file.write(new_words)"
   ]
  },
  {
   "cell_type": "code",
   "execution_count": 16,
   "metadata": {},
   "outputs": [],
   "source": [
    "jieba.load_userdict('./adding.txt')"
   ]
  },
  {
   "cell_type": "code",
   "execution_count": 17,
   "metadata": {},
   "outputs": [
    {
     "name": "stdout",
     "output_type": "stream",
     "text": [
      "output 精確模式: 台灣|東北角|黃金十稜|當中|，|最為|精彩|刺激|的|，|莫過於|劍龍稜|了|。|因|稜線|地貌|與|劍龍|背脊|相似|，|而|得|劍龍稜|之|名|沿途|風景|壯闊|，|可以|展望|茶壺山|基隆山|、|水湳洞|與|太平洋|。|雖然|登山口|臨近|市區|，|屬於|一日|之內|可以|往返|的|郊山|，|但|其|難度|卻|一點|都|不|簡單|，|必須|要|在|毫無|遮蔽|的|情況|下|，|行走|於|岩石|絕壁|之上|。\n"
     ]
    }
   ],
   "source": [
    "print(\"output 精確模式: {}\".format('|'.join(jieba.cut(sentence, cut_all=False, HMM=False))))"
   ]
  },
  {
   "cell_type": "markdown",
   "metadata": {},
   "source": [
    "## Taggin"
   ]
  },
  {
   "cell_type": "code",
   "execution_count": 18,
   "metadata": {},
   "outputs": [
    {
     "name": "stdout",
     "output_type": "stream",
     "text": [
      "台灣 x\n",
      "東北角 x\n",
      "黃金十稜 n\n",
      "當中 x\n",
      "， x\n",
      "最為 x\n",
      "精彩 n\n",
      "刺激 v\n",
      "的 uj\n",
      "， x\n",
      "莫過於 x\n",
      "劍龍稜 n\n",
      "了 ul\n",
      "。 x\n",
      "因 p\n",
      "稜線 x\n",
      "地貌 n\n",
      "與 zg\n",
      "劍龍 x\n",
      "背脊 n\n",
      "相似 v\n",
      "， x\n",
      "而 c\n",
      "得 ud\n",
      "劍龍稜 n\n",
      "之 u\n",
      "名 q\n",
      "沿途 b\n",
      "風景 x\n",
      "壯闊 x\n",
      "， x\n",
      "可以 c\n",
      "展望 v\n",
      "茶壺山 x\n",
      "基隆山 v\n",
      "、 x\n",
      "水湳洞 x\n",
      "與 zg\n",
      "太平洋 ns\n",
      "。 x\n",
      "雖然 x\n",
      "登山口 x\n",
      "臨近 x\n",
      "市區 x\n",
      "， x\n",
      "屬於 x\n",
      "一日 m\n",
      "之內 x\n",
      "可以 c\n",
      "往返 v\n",
      "的 uj\n",
      "郊山 x\n",
      "， x\n",
      "但其 c\n",
      "難度 x\n",
      "卻 zg\n",
      "一點 x\n",
      "都 d\n",
      "不 d\n",
      "簡單 x\n",
      "， x\n",
      "必須 x\n",
      "要 v\n",
      "在 p\n",
      "毫無 x\n",
      "遮蔽 v\n",
      "的 uj\n",
      "情況 x\n",
      "下 f\n",
      "， x\n",
      "行走 v\n",
      "於 nr\n",
      "岩石 n\n",
      "絕壁 x\n",
      "之上 f\n",
      "。 x\n"
     ]
    }
   ],
   "source": [
    "words = pseg.cut(sentence,)\n",
    "for word, flag in words:\n",
    "    print(word, flag)"
   ]
  },
  {
   "cell_type": "code",
   "execution_count": null,
   "metadata": {},
   "outputs": [],
   "source": []
  }
 ],
 "metadata": {
  "kernelspec": {
   "display_name": "Python 3",
   "language": "python",
   "name": "python3"
  },
  "language_info": {
   "codemirror_mode": {
    "name": "ipython",
    "version": 3
   },
   "file_extension": ".py",
   "mimetype": "text/x-python",
   "name": "python",
   "nbconvert_exporter": "python",
   "pygments_lexer": "ipython3",
   "version": "3.6.10"
  }
 },
 "nbformat": 4,
 "nbformat_minor": 2
}
